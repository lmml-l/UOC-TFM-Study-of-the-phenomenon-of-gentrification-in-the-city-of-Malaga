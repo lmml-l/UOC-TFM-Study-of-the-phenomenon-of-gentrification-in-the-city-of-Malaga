{
 "cells": [
  {
   "cell_type": "markdown",
   "id": "865d5f11-345b-4868-83d8-ef386ea52d50",
   "metadata": {},
   "source": [
    "# Configuración Inicial"
   ]
  },
  {
   "cell_type": "code",
   "execution_count": 26,
   "id": "1722e979-5664-4d93-b3e3-b3e3d06a3a9f",
   "metadata": {},
   "outputs": [],
   "source": [
    "import geopandas as gpd\n",
    "import pandas as pd\n",
    "import numpy as np\n",
    "\n",
    "from sklearn.model_selection import train_test_split\n",
    "from sklearn.model_selection import KFold\n",
    "from sklearn.model_selection import cross_val_score\n",
    "r_state = 42"
   ]
  },
  {
   "cell_type": "markdown",
   "id": "86d85d30-4abb-41a2-ba41-b17d2e5a0661",
   "metadata": {},
   "source": [
    "# Importar dataframes y crear conjuntos train y test"
   ]
  },
  {
   "cell_type": "markdown",
   "id": "f2d9ebfb-ce28-439d-9c7b-c1505703d901",
   "metadata": {},
   "source": [
    "## Importar dataframes"
   ]
  },
  {
   "cell_type": "code",
   "execution_count": 30,
   "id": "b385b9b5-6025-4b26-854f-655eaa52d8ef",
   "metadata": {},
   "outputs": [],
   "source": [
    "path_2011 = r\"C:\\Users\\Usuario\\OneDrive\\Escritorio\\UOC\\TFM\\PEC3  - Implementacion\\WorkStation\\Datos\\Variables\\Procesados\\Distritos\\df_2011.csv\"\n",
    "path_2021 = r\"C:\\Users\\Usuario\\OneDrive\\Escritorio\\UOC\\TFM\\PEC3  - Implementacion\\WorkStation\\Datos\\Variables\\Procesados\\Distritos\\df_2021.csv\"\n",
    "df_2011 = pd.read_csv(path_2011, sep=\";\")\n",
    "df_2021 = pd.read_csv(path_2021, sep=\";\")"
   ]
  },
  {
   "cell_type": "markdown",
   "id": "ce2a4734-d3f9-4ab3-8443-74504ee5216b",
   "metadata": {},
   "source": [
    "## Conjuntos train y test"
   ]
  },
  {
   "cell_type": "code",
   "execution_count": 33,
   "id": "04a1ad5d-482e-41f2-91d3-2a6459eb148b",
   "metadata": {},
   "outputs": [],
   "source": [
    "# Se dividen los conjuntos usando 80/20 respectivamente\n",
    "train, test = train_test_split(df_2011, test_size = 0.2, random_state = r_state)\n",
    "\n",
    "x_train = train.loc[:, ~train.columns.isin([\"SES_11\",\"NOMBRE\"])]\n",
    "y_train = train.loc[:, train.columns == 'SES_11']\n",
    "\n",
    "x_test = test.loc[:, ~test.columns.isin([\"SES_11\",\"NOMBRE\"])]\n",
    "y_test = test.loc[:, test.columns == 'SES_11']"
   ]
  },
  {
   "cell_type": "markdown",
   "id": "8a7dfdf0-086a-487f-81a5-3043a14d963f",
   "metadata": {},
   "source": [
    "# Crear Modelo Regresión Linear"
   ]
  },
  {
   "cell_type": "code",
   "execution_count": 36,
   "id": "0860689e-fd75-43b4-b5e9-4f7a7cb7ddc3",
   "metadata": {},
   "outputs": [],
   "source": [
    "# Importar paquete:\n",
    "from sklearn.linear_model import LinearRegression\n",
    "\n",
    "# Entrenar modelo de regresion lineal\n",
    "lm = LinearRegression().fit(x_train, y_train)\n",
    "\n",
    "# Predecir conjunto test con el modelo\n",
    "y_pred_lm = lm.predict(x_test)"
   ]
  },
  {
   "cell_type": "code",
   "execution_count": 38,
   "id": "ad548644-29d4-404d-898a-5e5ab94fe83e",
   "metadata": {},
   "outputs": [
    {
     "name": "stdout",
     "output_type": "stream",
     "text": [
      "mae_lm: 0.05855141140867992, \n",
      "mse_lm: 0.005451821843941962, \n",
      "evs_lm: 0.9974421215072766, \n",
      "r2_lm: 0.9959323195432757, \n",
      "mape_lm: 4.1520426243628465\n"
     ]
    }
   ],
   "source": [
    "# Importar métricas\n",
    "from sklearn.metrics import (mean_absolute_error as mae, mean_squared_error as mse, \n",
    "                             explained_variance_score as evs, r2_score as r2)\n",
    "\n",
    "def mape(Y_actual,Y_Predicted):\n",
    "    mape = np.mean(np.abs((Y_actual - Y_Predicted)/Y_actual))*100\n",
    "    return mape\n",
    "\n",
    "# Evaluar el modelo en función de las métricas\n",
    "mae_lm = mae(y_test, y_pred_lm)\n",
    "mse_lm = mse(y_test, y_pred_lm)\n",
    "evs_lm = evs(y_test, y_pred_lm)\n",
    "r2_lm = r2(y_test, y_pred_lm)\n",
    "mape_lm = mape(y_test, y_pred_lm)\n",
    "\n",
    "print(f\"mae_lm: {mae_lm}, \\nmse_lm: {mse_lm}, \\nevs_lm: {evs_lm}, \\nr2_lm: {r2_lm}, \\nmape_lm: {mape_lm}\")"
   ]
  },
  {
   "cell_type": "markdown",
   "id": "87f41682-68bf-4927-acdf-f92667e45063",
   "metadata": {},
   "source": [
    "## Kfold Validacion"
   ]
  },
  {
   "cell_type": "code",
   "execution_count": 41,
   "id": "78834468-308a-4515-a932-0e34924ff381",
   "metadata": {},
   "outputs": [
    {
     "name": "stdout",
     "output_type": "stream",
     "text": [
      "Mean Cross-Validation Score: -0.032183070034962735\n",
      "Standard Deviation: 0.044352833629957844\n"
     ]
    }
   ],
   "source": [
    "kfold = KFold(n_splits=5, shuffle=True, random_state=r_state)  # 5 pliegues\n",
    "scores = cross_val_score(lm, x_train, y_train, cv=kfold, scoring='neg_mean_squared_error')\n",
    "print(f\"Mean Cross-Validation Score: {np.mean(scores)}\")\n",
    "print(f\"Standard Deviation: {np.std(scores)}\")"
   ]
  },
  {
   "cell_type": "code",
   "execution_count": null,
   "id": "e3353be3-51ab-495f-90d7-b6158baa47d0",
   "metadata": {},
   "outputs": [],
   "source": []
  }
 ],
 "metadata": {
  "kernelspec": {
   "display_name": "Python 3 (ipykernel)",
   "language": "python",
   "name": "python3"
  },
  "language_info": {
   "codemirror_mode": {
    "name": "ipython",
    "version": 3
   },
   "file_extension": ".py",
   "mimetype": "text/x-python",
   "name": "python",
   "nbconvert_exporter": "python",
   "pygments_lexer": "ipython3",
   "version": "3.12.7"
  }
 },
 "nbformat": 4,
 "nbformat_minor": 5
}

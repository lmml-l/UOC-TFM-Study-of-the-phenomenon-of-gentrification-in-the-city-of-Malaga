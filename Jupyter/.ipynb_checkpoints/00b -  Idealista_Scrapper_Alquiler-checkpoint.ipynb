{
 "cells": [
  {
   "cell_type": "code",
   "execution_count": 3,
   "id": "4dded878-2269-4a6b-a864-9118512b1f76",
   "metadata": {},
   "outputs": [
    {
     "name": "stdout",
     "output_type": "stream",
     "text": [
      "Archivo CSV consolidado generado correctamente en: salida.csv\n"
     ]
    }
   ],
   "source": [
    "import os\n",
    "import csv\n",
    "from bs4 import BeautifulSoup\n",
    "\n",
    "# Ruta de la carpeta que contiene los archivos HTML\n",
    "ruta_html = r\"C:\\Users\\Usuario\\OneDrive\\Escritorio\\UOC\\TFM\\PEC3  - Implementacion\\Fuentes de Datos\\13 - Precio Alquiler\\Idealista\\Webs\"\n",
    "# Ruta del archivo CSV de salida\n",
    "ruta_csv = \"salida.csv\"\n",
    "\n",
    "# Crear un diccionario para almacenar los datos\n",
    "datos = {}\n",
    "\n",
    "# Iterar sobre todos los archivos en la carpeta\n",
    "for nombre_archivo in os.listdir(ruta_html):\n",
    "    if nombre_archivo.endswith(\".html\"):  # Filtrar solo archivos HTML\n",
    "        ruta_archivo = os.path.join(ruta_html, nombre_archivo)\n",
    "\n",
    "        # Leer el archivo HTML\n",
    "        with open(ruta_archivo, \"r\", encoding=\"utf-8\") as file:\n",
    "            contenido_html = file.read()\n",
    "\n",
    "        # Parsear el HTML con BeautifulSoup\n",
    "        soup = BeautifulSoup(contenido_html, \"html.parser\")\n",
    "\n",
    "        # Encontrar todas las filas de la tabla\n",
    "        filas = soup.find_all(\"tr\", class_=\"table__row\")\n",
    "\n",
    "        # Crear un diccionario para la fila actual\n",
    "        fila_actual = {\"Archivo\": nombre_archivo}\n",
    "\n",
    "        # Extraer los datos\n",
    "        for fila in filas:\n",
    "            celdas = fila.find_all(\"td\")\n",
    "            mes_anio = celdas[0].get_text(strip=True)  # Mes y año\n",
    "            precio_m2 = celdas[1].get_text(strip=True).replace(\" €/m2\", \"\").replace(\".\", \",\")  # €/m2\n",
    "            # Añadir el dato al diccionario de la fila actual\n",
    "            fila_actual[mes_anio] = precio_m2\n",
    "\n",
    "        # Agregar la fila al diccionario principal\n",
    "        datos[nombre_archivo] = fila_actual\n",
    "\n",
    "# Obtener todas las posibles columnas (meses-años) y ordenarlas\n",
    "columnas = set()\n",
    "for fila in datos.values():\n",
    "    columnas.update(fila.keys())\n",
    "columnas = sorted(columnas)  # Ordenar alfabéticamente\n",
    "\n",
    "# Asegurarse de que \"Archivo\" sea la primera columna\n",
    "columnas.remove(\"Archivo\")\n",
    "columnas = [\"Archivo\"] + columnas\n",
    "\n",
    "# Escribir los datos acumulados en un archivo CSV\n",
    "with open(ruta_csv, \"w\", encoding=\"utf-8\", newline=\"\") as file:\n",
    "    escritor_csv = csv.writer(file, delimiter=\";\")\n",
    "    # Escribir la cabecera\n",
    "    escritor_csv.writerow(columnas)\n",
    "\n",
    "    # Escribir las filas\n",
    "    for fila in datos.values():\n",
    "        fila_ordenada = [fila.get(col, \"\") for col in columnas]\n",
    "        escritor_csv.writerow(fila_ordenada)\n",
    "\n",
    "print(f\"Archivo CSV consolidado generado correctamente en: {ruta_csv}\")\n"
   ]
  },
  {
   "cell_type": "code",
   "execution_count": null,
   "id": "9177046c-087e-4fe7-9ee8-54df65feb2cc",
   "metadata": {},
   "outputs": [],
   "source": []
  }
 ],
 "metadata": {
  "kernelspec": {
   "display_name": "Python 3 (ipykernel)",
   "language": "python",
   "name": "python3"
  },
  "language_info": {
   "codemirror_mode": {
    "name": "ipython",
    "version": 3
   },
   "file_extension": ".py",
   "mimetype": "text/x-python",
   "name": "python",
   "nbconvert_exporter": "python",
   "pygments_lexer": "ipython3",
   "version": "3.12.7"
  }
 },
 "nbformat": 4,
 "nbformat_minor": 5
}

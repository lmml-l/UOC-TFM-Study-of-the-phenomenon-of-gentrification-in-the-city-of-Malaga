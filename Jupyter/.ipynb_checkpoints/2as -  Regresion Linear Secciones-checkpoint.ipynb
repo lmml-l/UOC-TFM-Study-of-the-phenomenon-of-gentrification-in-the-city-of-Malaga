{
 "cells": [
  {
   "cell_type": "markdown",
   "id": "2178e6d0-9d20-496b-b336-451cee879a96",
   "metadata": {},
   "source": [
    "# Configuración Inicial"
   ]
  },
  {
   "cell_type": "code",
   "execution_count": 204,
   "id": "9da4bcad-2ce0-4bb1-a31f-35ef15ba1ef3",
   "metadata": {},
   "outputs": [],
   "source": [
    "import geopandas as gpd\n",
    "import pandas as pd\n",
    "import numpy as np\n",
    "\n",
    "from sklearn.model_selection import train_test_split\n",
    "from sklearn.model_selection import KFold\n",
    "from sklearn.model_selection import cross_val_score\n",
    "r_state = 42"
   ]
  },
  {
   "cell_type": "markdown",
   "id": "99aa232f-52c6-457c-87a9-75a55e72eace",
   "metadata": {},
   "source": [
    "# Importar dataframes y crear conjuntos train y test"
   ]
  },
  {
   "cell_type": "markdown",
   "id": "f0a0cea0-9b8d-4e7a-8970-2a0c594531c0",
   "metadata": {},
   "source": [
    "## Importar dataframes"
   ]
  },
  {
   "cell_type": "code",
   "execution_count": 208,
   "id": "2b222f72-7ee0-4517-aa28-fad14f2dcc36",
   "metadata": {},
   "outputs": [],
   "source": [
    "path_2011 = r\"C:\\Users\\Usuario\\OneDrive\\Escritorio\\UOC\\TFM\\PEC3  - Implementacion\\WorkStation\\Datos\\Variables\\Procesados\\Secciones\\df_2011.csv\"\n",
    "path_2021 = r\"C:\\Users\\Usuario\\OneDrive\\Escritorio\\UOC\\TFM\\PEC3  - Implementacion\\WorkStation\\Datos\\Variables\\Procesados\\Secciones\\df_2021.csv\"\n",
    "df_2011 = pd.read_csv(path_2011, sep=\";\")\n",
    "df_2021 = pd.read_csv(path_2021, sep=\";\")\n",
    "\n",
    "df_2011.rename(columns={'SES_11': 'SES', 'he_pct_11': 'he_pct', 'kw_pct_11': 'kw_pct', 'median_price_inf_11': 'median_price_inf'}, inplace=True)\n",
    "df_2021.rename(columns={'SES_21': 'SES', 'he_pct_21': 'he_pct', 'kw_pct_21': 'kw_pct', 'median_price_inf_21': 'median_price_inf'}, inplace=True)\n",
    "#print(df_2011.columns)\n",
    "#print(df_2021.columns)"
   ]
  },
  {
   "cell_type": "markdown",
   "id": "223fe5b7-aa38-4ac0-b1c3-bf34ece69c62",
   "metadata": {},
   "source": [
    "## Conjunto train y test"
   ]
  },
  {
   "cell_type": "code",
   "execution_count": 211,
   "id": "85347321-9df7-469b-b6ca-2850c84e915a",
   "metadata": {},
   "outputs": [],
   "source": [
    "# Se dividen los conjuntos usando 80/20 respectivamente\n",
    "train, test = train_test_split(df_2011, test_size = 0.2, random_state = r_state)\n",
    "\n",
    "x_train = train.loc[:, ~train.columns.isin([\"SES\"])]\n",
    "y_train = train.loc[:, train.columns == 'SES']\n",
    "\n",
    "x_test = test.loc[:, ~test.columns.isin([\"SES\"])]\n",
    "y_test = test.loc[:, test.columns == 'SES']"
   ]
  },
  {
   "cell_type": "markdown",
   "id": "a23f1d96-445a-481a-bd27-10f5a67fdc2b",
   "metadata": {},
   "source": [
    "# Crear Modelo Regresión Linear"
   ]
  },
  {
   "cell_type": "code",
   "execution_count": 214,
   "id": "d5d988d2-d436-47d6-89fc-e4035a1073f8",
   "metadata": {},
   "outputs": [],
   "source": [
    "# Import package:\n",
    "from sklearn.linear_model import LinearRegression\n",
    "\n",
    "# Fit model\n",
    "lm = LinearRegression().fit(x_train, y_train)\n",
    "\n",
    "# Fir prediction to test dataset\n",
    "y_pred_lm = lm.predict(x_test)"
   ]
  },
  {
   "cell_type": "code",
   "execution_count": 216,
   "id": "4c9adb2e-b0b2-4554-a4dd-234b0f287279",
   "metadata": {},
   "outputs": [
    {
     "name": "stdout",
     "output_type": "stream",
     "text": [
      "mae_lm: 0.02543846176987255, \n",
      "mse_lm: 0.0010833749820197234, \n",
      "evs_lm: 0.9967295478139296, \n",
      "r2_lm: 0.9961304014853738, \n",
      "mape_lm: 7.665552616196288\n"
     ]
    }
   ],
   "source": [
    "# Import Regression metrics\n",
    "from sklearn.metrics import (mean_absolute_error as mae, mean_squared_error as mse, \n",
    "                             explained_variance_score as evs, r2_score as r2)\n",
    "\n",
    "def mape(Y_actual,Y_Predicted):\n",
    "    mape = np.mean(np.abs((Y_actual - Y_Predicted)/Y_actual))*100\n",
    "    return mape\n",
    "\n",
    "# Evaluate Model performanc metrics\n",
    "mae_lm = mae(y_test, y_pred_lm)\n",
    "mse_lm = mse(y_test, y_pred_lm)\n",
    "evs_lm = evs(y_test, y_pred_lm)\n",
    "r2_lm = r2(y_test, y_pred_lm)\n",
    "mape_lm = mape(y_test, y_pred_lm)\n",
    "\n",
    "print(f\"mae_lm: {mae_lm}, \\nmse_lm: {mse_lm}, \\nevs_lm: {evs_lm}, \\nr2_lm: {r2_lm}, \\nmape_lm: {mape_lm}\")"
   ]
  },
  {
   "cell_type": "markdown",
   "id": "e661b19b-51f1-4138-9145-955908156f2d",
   "metadata": {},
   "source": [
    "## Kfold Validation"
   ]
  },
  {
   "cell_type": "code",
   "execution_count": 219,
   "id": "71c0ea7d-eac0-4d05-899c-9e628d7e168f",
   "metadata": {},
   "outputs": [
    {
     "name": "stdout",
     "output_type": "stream",
     "text": [
      "Mean Cross-Validation Score: -0.0013430075606360218\n",
      "Standard Deviation: 0.0006554681288836973\n"
     ]
    }
   ],
   "source": [
    "kfold = KFold(n_splits=5, shuffle=True, random_state=r_state)  # 5 pliegues\n",
    "scores = cross_val_score(lm, x_train, y_train, cv=kfold, scoring='neg_mean_squared_error')\n",
    "print(f\"Mean Cross-Validation Score: {np.mean(scores)}\")\n",
    "print(f\"Standard Deviation: {np.std(scores)}\")"
   ]
  },
  {
   "cell_type": "markdown",
   "id": "cec752b9-5872-4568-9abc-c577443b16de",
   "metadata": {},
   "source": [
    "# Usar la regresión lineal para predecir la gentrificación de 2021 "
   ]
  },
  {
   "cell_type": "code",
   "execution_count": 226,
   "id": "8b01f746-32f3-440a-a1a5-e53574e98fe0",
   "metadata": {},
   "outputs": [],
   "source": [
    "# Define 'x' data\n",
    "X_21 = df_2021.loc[:, ~df_2021.columns.isin([\"SES\"])]\n",
    "\n",
    "# Define new dataset to store results in:\n",
    "df_2021_lm = df_2021.copy()\n",
    "\n",
    "# Fit model to 2021 input data to predict 2021 SES scores\n",
    "df_2021_lm['Predicted_SES_21'] = lm.predict(X_21)"
   ]
  },
  {
   "cell_type": "code",
   "execution_count": 228,
   "id": "dbde104c-e70a-4ad5-ba2b-04f1bd5a568c",
   "metadata": {},
   "outputs": [
    {
     "name": "stdout",
     "output_type": "stream",
     "text": [
      "     NUMSECCENS     15-19     20-34     35-64       65+  Casado/a  \\\n",
      "0        1001.0  0.000000  0.230435  0.739130  0.030435  0.365297   \n",
      "1        2003.0  0.000000  0.201521  0.787072  0.011407  0.540541   \n",
      "2        2004.0  0.000000  0.162162  0.762162  0.075676  0.596685   \n",
      "3        2009.0  0.000000  0.195238  0.790476  0.014286  0.549020   \n",
      "4        2013.0  0.003460  0.190311  0.771626  0.034602  0.583916   \n",
      "..          ...       ...       ...       ...       ...       ...   \n",
      "110     11003.0  0.003356  0.221477  0.758389  0.016779  0.589226   \n",
      "111     11004.0  0.000000  0.158333  0.816667  0.025000  0.556962   \n",
      "112     11006.0  0.009302  0.265116  0.711628  0.013953  0.521327   \n",
      "113     11007.0  0.003205  0.182692  0.807692  0.006410  0.612179   \n",
      "114     11010.0  0.008097  0.161943  0.813765  0.016194  0.595041   \n",
      "\n",
      "     Divorciado/a o Separado/a  Soltero/a   Viudo/a  \\\n",
      "0                     0.132420   0.488584  0.013699   \n",
      "1                     0.127413   0.324324  0.007722   \n",
      "2                     0.099448   0.287293  0.016575   \n",
      "3                     0.083333   0.352941  0.014706   \n",
      "4                     0.097902   0.304196  0.013986   \n",
      "..                         ...        ...       ...   \n",
      "110                   0.084175   0.319865  0.006734   \n",
      "111                   0.122363   0.303797  0.016878   \n",
      "112                   0.109005   0.350711  0.018957   \n",
      "113                   0.105769   0.278846  0.003205   \n",
      "114                   0.095041   0.305785  0.004132   \n",
      "\n",
      "     Hogar con un hombre solo de 65 años o más  ...  Otro régimen de tenencia  \\\n",
      "0                                     0.057432  ...                  0.097315   \n",
      "1                                     0.009852  ...                  0.029851   \n",
      "2                                     0.029586  ...                  0.058824   \n",
      "3                                     0.023810  ...                  0.077295   \n",
      "4                                     0.017021  ...                  0.034043   \n",
      "..                                         ...  ...                       ...   \n",
      "110                                   0.020243  ...                  0.028455   \n",
      "111                                   0.026667  ...                  0.026906   \n",
      "112                                   0.019417  ...                  0.049020   \n",
      "113                                   0.012245  ...                  0.045082   \n",
      "114                                   0.029268  ...                  0.039024   \n",
      "\n",
      "     Trabajador por cuenta ajena fijo o indefinido  \\\n",
      "0                                         0.528384   \n",
      "1                                         0.606061   \n",
      "2                                         0.519126   \n",
      "3                                         0.561905   \n",
      "4                                         0.541379   \n",
      "..                                             ...   \n",
      "110                                       0.637584   \n",
      "111                                       0.579167   \n",
      "112                                       0.632075   \n",
      "113                                       0.635783   \n",
      "114                                       0.606557   \n",
      "\n",
      "     Trabajador por cuenta ajena temporal  \\\n",
      "0                                0.165939   \n",
      "1                                0.189394   \n",
      "2                                0.136612   \n",
      "3                                0.228571   \n",
      "4                                0.134483   \n",
      "..                                    ...   \n",
      "110                              0.174497   \n",
      "111                              0.162500   \n",
      "112                              0.226415   \n",
      "113                              0.172524   \n",
      "114                              0.159836   \n",
      "\n",
      "     Trabajador por cuenta propia que emplea personal  \\\n",
      "0                                            0.065502   \n",
      "1                                            0.049242   \n",
      "2                                            0.125683   \n",
      "3                                            0.071429   \n",
      "4                                            0.093103   \n",
      "..                                                ...   \n",
      "110                                          0.040268   \n",
      "111                                          0.058333   \n",
      "112                                          0.033019   \n",
      "113                                          0.044728   \n",
      "114                                          0.049180   \n",
      "\n",
      "     Trabajador por cuenta propia que no emplea personal       SES    kw_pct  \\\n",
      "0                                             0.240175    1.165939  0.410302   \n",
      "1                                             0.155303    2.308229  0.406828   \n",
      "2                                             0.218579    3.196389  0.725379   \n",
      "3                                             0.138095    2.074234  0.041667   \n",
      "4                                             0.231034    2.992757  0.753532   \n",
      "..                                                 ...         ...       ...   \n",
      "110                                           0.147651    0.331831  0.178114   \n",
      "111                                           0.200000    0.880603  0.513672   \n",
      "112                                           0.108491   -0.028130  0.013294   \n",
      "113                                           0.146965    0.406226  0.362579   \n",
      "114                                           0.184426    0.404134  0.185366   \n",
      "\n",
      "       he_pct  median_price_inf  Predicted_SES_21  \n",
      "0    0.374126       2361.290759          1.244639  \n",
      "1    0.287688       2846.996138          2.314064  \n",
      "2    0.662239       2846.996138          3.143235  \n",
      "3    0.333333       2846.996138          2.102937  \n",
      "4    0.524436       2846.996138          2.975587  \n",
      "..        ...               ...               ...  \n",
      "110  0.155172       2257.217173          0.436741  \n",
      "111  0.315403       2257.217173          0.864026  \n",
      "112  0.021700       2257.217173          0.063670  \n",
      "113  0.105575       2257.217173          0.488258  \n",
      "114  0.195251       2257.217173          0.546706  \n",
      "\n",
      "[115 rows x 61 columns]\n"
     ]
    }
   ],
   "source": [
    "print(df_2021_lm)"
   ]
  },
  {
   "cell_type": "code",
   "execution_count": null,
   "id": "909b088a-00f1-4b62-8344-efcadf5f67cd",
   "metadata": {},
   "outputs": [],
   "source": []
  }
 ],
 "metadata": {
  "kernelspec": {
   "display_name": "Python 3 (ipykernel)",
   "language": "python",
   "name": "python3"
  },
  "language_info": {
   "codemirror_mode": {
    "name": "ipython",
    "version": 3
   },
   "file_extension": ".py",
   "mimetype": "text/x-python",
   "name": "python",
   "nbconvert_exporter": "python",
   "pygments_lexer": "ipython3",
   "version": "3.12.7"
  }
 },
 "nbformat": 4,
 "nbformat_minor": 5
}

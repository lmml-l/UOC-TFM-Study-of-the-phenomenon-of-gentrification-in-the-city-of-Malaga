{
 "cells": [
  {
   "cell_type": "code",
   "execution_count": 35,
   "id": "9cce1da3-5e8a-4f7b-8c53-18bedcb6e8b1",
   "metadata": {},
   "outputs": [
    {
     "name": "stdout",
     "output_type": "stream",
     "text": [
      "Archivo CSV generado correctamente en: salida.csv\n"
     ]
    }
   ],
   "source": [
    "import csv\n",
    "from bs4 import BeautifulSoup\n",
    "\n",
    "# Ruta del archivo HTML\n",
    "ruta_html = r\"C:\\Users\\Usuario\\OneDrive\\Escritorio\\UOC\\TFM\\PEC3  - Implementacion\\Fuentes de Datos\\02 - Precio vivienda\\Idealista\\Webs\\Histórico de precios de venta en Teatinos — idealista.html\"\n",
    "# Ruta del archivo CSV de salida\n",
    "ruta_csv = \"salida.csv\"\n",
    "\n",
    "# Leer el archivo HTML\n",
    "with open(ruta_html, \"r\", encoding=\"utf-8\") as file:\n",
    "    contenido_html = file.read()\n",
    "\n",
    "# Parsear el HTML con BeautifulSoup\n",
    "soup = BeautifulSoup(contenido_html, \"html.parser\")\n",
    "\n",
    "# Encontrar todas las filas de la tabla\n",
    "filas = soup.find_all(\"tr\", class_=\"table__row\")\n",
    "\n",
    "# Extraer los datos\n",
    "datos = []\n",
    "for fila in filas:\n",
    "    celdas = fila.find_all(\"td\")\n",
    "    mes_anio = celdas[0].get_text(strip=True)  # Mes y año\n",
    "    precio_m2 = celdas[1].get_text(strip=True).replace(\" €/m2\", \"\").replace(\".\", \",\")  # €/m2\n",
    "    datos.append([mes_anio, precio_m2])\n",
    "\n",
    "# Añadir la cabecera como primera fila\n",
    "cabecera = [\"Mes-Año\", \"€/m2\"]\n",
    "datos.insert(0, cabecera)\n",
    "\n",
    "datos_transpuestos = list(zip(*datos))\n",
    "\n",
    "# Escribir los datos en un archivo CSV\n",
    "with open(ruta_csv, \"w\", encoding=\"utf-8\", newline=\"\") as file:\n",
    "    escritor_csv = csv.writer(file, delimiter=\";\")\n",
    "    # Escribir la cabecera\n",
    "    #escritor_csv.writecolumn([\"Mes-Año\", \"€/m2\"])\n",
    "    # Escribir los datos\n",
    "    escritor_csv.writerows(datos_transpuestos)\n",
    "\n",
    "print(f\"Archivo CSV generado correctamente en: {ruta_csv}\")"
   ]
  },
  {
   "cell_type": "code",
   "execution_count": null,
   "id": "d15ec8e7-b26c-4df9-ae13-38fa2acf43b0",
   "metadata": {},
   "outputs": [],
   "source": []
  }
 ],
 "metadata": {
  "kernelspec": {
   "display_name": "Python 3 (ipykernel)",
   "language": "python",
   "name": "python3"
  },
  "language_info": {
   "codemirror_mode": {
    "name": "ipython",
    "version": 3
   },
   "file_extension": ".py",
   "mimetype": "text/x-python",
   "name": "python",
   "nbconvert_exporter": "python",
   "pygments_lexer": "ipython3",
   "version": "3.12.7"
  }
 },
 "nbformat": 4,
 "nbformat_minor": 5
}

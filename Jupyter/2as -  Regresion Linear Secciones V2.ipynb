{
 "cells": [
  {
   "cell_type": "markdown",
   "id": "2178e6d0-9d20-496b-b336-451cee879a96",
   "metadata": {},
   "source": [
    "# Configuración Inicial"
   ]
  },
  {
   "cell_type": "code",
   "execution_count": 222,
   "id": "9da4bcad-2ce0-4bb1-a31f-35ef15ba1ef3",
   "metadata": {},
   "outputs": [],
   "source": [
    "import geopandas as gpd\n",
    "import pandas as pd\n",
    "import numpy as np\n",
    "\n",
    "from sklearn.model_selection import train_test_split\n",
    "from sklearn.model_selection import KFold\n",
    "from sklearn.model_selection import cross_val_score\n",
    "r_state = 42"
   ]
  },
  {
   "cell_type": "markdown",
   "id": "99aa232f-52c6-457c-87a9-75a55e72eace",
   "metadata": {},
   "source": [
    "# Importar dataframes y crear conjuntos train y test"
   ]
  },
  {
   "cell_type": "markdown",
   "id": "f0a0cea0-9b8d-4e7a-8970-2a0c594531c0",
   "metadata": {},
   "source": [
    "## Importar dataframes"
   ]
  },
  {
   "cell_type": "code",
   "execution_count": 226,
   "id": "2b222f72-7ee0-4517-aa28-fad14f2dcc36",
   "metadata": {},
   "outputs": [],
   "source": [
    "path_2011 = r\"C:\\Users\\Usuario\\OneDrive\\Escritorio\\UOC\\TFM\\PEC3  - Implementacion\\WorkStation\\Datos\\Variables\\Procesados\\Secciones2\\df_2011.csv\"\n",
    "path_2021 = r\"C:\\Users\\Usuario\\OneDrive\\Escritorio\\UOC\\TFM\\PEC3  - Implementacion\\WorkStation\\Datos\\Variables\\Procesados\\Secciones2\\df_2021.csv\"\n",
    "df_2011 = pd.read_csv(path_2011, sep=\";\")\n",
    "df_2021 = pd.read_csv(path_2021, sep=\";\")\n",
    "\n",
    "df_2011.rename(columns={'SES_11': 'SES', 'he_pct_11': 'he_pct', 'kw_pct_11': 'kw_pct', 'median_price_inf_11': 'median_price_inf'}, inplace=True)\n",
    "df_2021.rename(columns={'SES_21': 'SES', 'he_pct_21': 'he_pct', 'kw_pct_21': 'kw_pct', 'median_price_inf_21': 'median_price_inf'}, inplace=True)\n",
    "#print(df_2011.columns)\n",
    "#print(df_2021.columns)"
   ]
  },
  {
   "cell_type": "markdown",
   "id": "223fe5b7-aa38-4ac0-b1c3-bf34ece69c62",
   "metadata": {},
   "source": [
    "## Conjunto train y test"
   ]
  },
  {
   "cell_type": "code",
   "execution_count": 229,
   "id": "85347321-9df7-469b-b6ca-2850c84e915a",
   "metadata": {},
   "outputs": [],
   "source": [
    "# Se dividen los conjuntos usando 80/20 respectivamente\n",
    "train, test = train_test_split(df_2011, test_size = 0.2, random_state = r_state)\n",
    "\n",
    "x_train = train.loc[:, ~train.columns.isin([\"SES\",\"he_pct\",\"kw_pct\",\"median_price_inf\"])]\n",
    "y_train = train.loc[:, train.columns == 'SES']\n",
    "\n",
    "x_test = test.loc[:, ~test.columns.isin([\"SES\",\"he_pct\",\"kw_pct\",\"median_price_inf\"])]\n",
    "y_test = test.loc[:, test.columns == 'SES']"
   ]
  },
  {
   "cell_type": "markdown",
   "id": "a23f1d96-445a-481a-bd27-10f5a67fdc2b",
   "metadata": {},
   "source": [
    "# Crear Modelo Regresión Linear"
   ]
  },
  {
   "cell_type": "code",
   "execution_count": 232,
   "id": "d5d988d2-d436-47d6-89fc-e4035a1073f8",
   "metadata": {},
   "outputs": [],
   "source": [
    "# Import package:\n",
    "from sklearn.linear_model import LinearRegression\n",
    "\n",
    "# Fit model\n",
    "lm = LinearRegression().fit(x_train, y_train)\n",
    "\n",
    "# Fir prediction to test dataset\n",
    "y_pred_lm = lm.predict(x_test)"
   ]
  },
  {
   "cell_type": "code",
   "execution_count": 234,
   "id": "4c9adb2e-b0b2-4554-a4dd-234b0f287279",
   "metadata": {},
   "outputs": [
    {
     "name": "stdout",
     "output_type": "stream",
     "text": [
      "mae_lm: 0.6396061172469429, \n",
      "mse_lm: 0.6228366282271396, \n",
      "evs_lm: 0.5533276881368357, \n",
      "r2_lm: 0.5532868284859644, \n",
      "mape_lm: 1254.8591605820652\n"
     ]
    }
   ],
   "source": [
    "# Import Regression metrics\n",
    "from sklearn.metrics import (mean_absolute_error as mae, mean_squared_error as mse, \n",
    "                             explained_variance_score as evs, r2_score as r2)\n",
    "\n",
    "def mape(Y_actual,Y_Predicted):\n",
    "    mape = np.mean(np.abs((Y_actual - Y_Predicted)/Y_actual))*100\n",
    "    return mape\n",
    "\n",
    "# Evaluate Model performanc metrics\n",
    "mae_lm = mae(y_test, y_pred_lm)\n",
    "mse_lm = mse(y_test, y_pred_lm)\n",
    "evs_lm = evs(y_test, y_pred_lm)\n",
    "r2_lm = r2(y_test, y_pred_lm)\n",
    "mape_lm = mape(y_test, y_pred_lm)\n",
    "\n",
    "print(f\"mae_lm: {mae_lm}, \\nmse_lm: {mse_lm}, \\nevs_lm: {evs_lm}, \\nr2_lm: {r2_lm}, \\nmape_lm: {mape_lm}\")"
   ]
  },
  {
   "cell_type": "markdown",
   "id": "e661b19b-51f1-4138-9145-955908156f2d",
   "metadata": {},
   "source": [
    "## Kfold Validation"
   ]
  },
  {
   "cell_type": "code",
   "execution_count": 237,
   "id": "71c0ea7d-eac0-4d05-899c-9e628d7e168f",
   "metadata": {},
   "outputs": [
    {
     "name": "stdout",
     "output_type": "stream",
     "text": [
      "Mean Cross-Validation Score: -0.5187358118262658\n",
      "Standard Deviation: 0.06701378229913028\n"
     ]
    }
   ],
   "source": [
    "kfold = KFold(n_splits=5, shuffle=True, random_state=r_state)  # 5 pliegues\n",
    "scores = cross_val_score(lm, x_train, y_train, cv=kfold, scoring='neg_mean_squared_error')\n",
    "print(f\"Mean Cross-Validation Score: {np.mean(scores)}\")\n",
    "print(f\"Standard Deviation: {np.std(scores)}\")"
   ]
  },
  {
   "cell_type": "markdown",
   "id": "cec752b9-5872-4568-9abc-c577443b16de",
   "metadata": {},
   "source": [
    "# Usar la regresión lineal para predecir la gentrificación de 2021 "
   ]
  },
  {
   "cell_type": "code",
   "execution_count": 242,
   "id": "8b01f746-32f3-440a-a1a5-e53574e98fe0",
   "metadata": {},
   "outputs": [],
   "source": [
    "# Define 'x' data\n",
    "X_21 = df_2021.loc[:, ~df_2021.columns.isin([\"SES\",\"he_pct\",\"kw_pct\",\"median_price_inf\"])]\n",
    "\n",
    "# Define new dataset to store results in:\n",
    "df_2021_lm = df_2021.copy()\n",
    "\n",
    "# Fit model to 2021 input data to predict 2021 SES scores\n",
    "df_2021_lm['Predicted_SES_21'] = lm.predict(X_21)"
   ]
  },
  {
   "cell_type": "code",
   "execution_count": 244,
   "id": "dbde104c-e70a-4ad5-ba2b-04f1bd5a568c",
   "metadata": {},
   "outputs": [
    {
     "name": "stdout",
     "output_type": "stream",
     "text": [
      "     NUMSECCENS     15-19     20-34     35-64       65+  \\\n",
      "0        1001.0  0.000000  0.230435  0.739130  0.030435   \n",
      "1        2003.0  0.000000  0.201521  0.787072  0.011407   \n",
      "2        2004.0  0.000000  0.162162  0.762162  0.075676   \n",
      "3        2009.0  0.000000  0.195238  0.790476  0.014286   \n",
      "4        2013.0  0.003460  0.190311  0.771626  0.034602   \n",
      "..          ...       ...       ...       ...       ...   \n",
      "110     11003.0  0.003356  0.221477  0.758389  0.016779   \n",
      "111     11004.0  0.000000  0.158333  0.816667  0.025000   \n",
      "112     11006.0  0.009302  0.265116  0.711628  0.013953   \n",
      "113     11007.0  0.003205  0.182692  0.807692  0.006410   \n",
      "114     11010.0  0.008097  0.161943  0.813765  0.016194   \n",
      "\n",
      "     Hogar con un hombre solo de 65 años o más  \\\n",
      "0                                     0.057432   \n",
      "1                                     0.009852   \n",
      "2                                     0.029586   \n",
      "3                                     0.023810   \n",
      "4                                     0.017021   \n",
      "..                                         ...   \n",
      "110                                   0.020243   \n",
      "111                                   0.026667   \n",
      "112                                   0.019417   \n",
      "113                                   0.012245   \n",
      "114                                   0.029268   \n",
      "\n",
      "     Hogar con un hombre solo menor de 65 años  \\\n",
      "0                                     0.185811   \n",
      "1                                     0.054187   \n",
      "2                                     0.053254   \n",
      "3                                     0.061905   \n",
      "4                                     0.068085   \n",
      "..                                         ...   \n",
      "110                                   0.056680   \n",
      "111                                   0.071111   \n",
      "112                                   0.072816   \n",
      "113                                   0.081633   \n",
      "114                                   0.097561   \n",
      "\n",
      "     Hogar con un solo progenitor que convive con algún hijo menor de 25 años  \\\n",
      "0                                             0.043919                          \n",
      "1                                             0.093596                          \n",
      "2                                             0.076923                          \n",
      "3                                             0.076190                          \n",
      "4                                             0.085106                          \n",
      "..                                                 ...                          \n",
      "110                                           0.064777                          \n",
      "111                                           0.093333                          \n",
      "112                                           0.077670                          \n",
      "113                                           0.122449                          \n",
      "114                                           0.087805                          \n",
      "\n",
      "     Hogar con un solo progenitor que convive con todos sus hijos de 25 años o más  \\\n",
      "0                                             0.037162                               \n",
      "1                                             0.049261                               \n",
      "2                                             0.059172                               \n",
      "3                                             0.061905                               \n",
      "4                                             0.059574                               \n",
      "..                                                 ...                               \n",
      "110                                           0.052632                               \n",
      "111                                           0.040000                               \n",
      "112                                           0.048544                               \n",
      "113                                           0.028571                               \n",
      "114                                           0.029268                               \n",
      "\n",
      "     Hogar con una mujer sola de 65 años o más  ...  \\\n",
      "0                                     0.118243  ...   \n",
      "1                                     0.024631  ...   \n",
      "2                                     0.094675  ...   \n",
      "3                                     0.047619  ...   \n",
      "4                                     0.055319  ...   \n",
      "..                                         ...  ...   \n",
      "110                                   0.032389  ...   \n",
      "111                                   0.053333  ...   \n",
      "112                                   0.043689  ...   \n",
      "113                                   0.024490  ...   \n",
      "114                                   0.029268  ...   \n",
      "\n",
      "     5 - Trabajadores de los servicios de restauración, personales, protección y vendedores  \\\n",
      "0                                             0.232558                                        \n",
      "1                                             0.217391                                        \n",
      "2                                             0.106742                                        \n",
      "3                                             0.276699                                        \n",
      "4                                             0.121864                                        \n",
      "..                                                 ...                                        \n",
      "110                                           0.263889                                        \n",
      "111                                           0.228448                                        \n",
      "112                                           0.357488                                        \n",
      "113                                           0.313531                                        \n",
      "114                                           0.255319                                        \n",
      "\n",
      "     6 - Trabajadores cualificados en el sector agrícola, ganadero, forestal y pesquero  \\\n",
      "0                                             0.004651                                    \n",
      "1                                             0.000000                                    \n",
      "2                                             0.000000                                    \n",
      "3                                             0.004854                                    \n",
      "4                                             0.003584                                    \n",
      "..                                                 ...                                    \n",
      "110                                           0.003472                                    \n",
      "111                                           0.000000                                    \n",
      "112                                           0.009662                                    \n",
      "113                                           0.003300                                    \n",
      "114                                           0.004255                                    \n",
      "\n",
      "     7 - Artesanos y trabajadores cualificados de las industrias manufactureras y la construcción (excepto operadores de instalaciones y maquinaria)  \\\n",
      "0                                             0.027907                                                                                                 \n",
      "1                                             0.094862                                                                                                 \n",
      "2                                             0.011236                                                                                                 \n",
      "3                                             0.077670                                                                                                 \n",
      "4                                             0.025090                                                                                                 \n",
      "..                                                 ...                                                                                                 \n",
      "110                                           0.097222                                                                                                 \n",
      "111                                           0.068966                                                                                                 \n",
      "112                                           0.130435                                                                                                 \n",
      "113                                           0.075908                                                                                                 \n",
      "114                                           0.068085                                                                                                 \n",
      "\n",
      "     8 - Operadores de instalaciones y maquinaria, y montadores  \\\n",
      "0                                             0.013953            \n",
      "1                                             0.035573            \n",
      "2                                             0.005618            \n",
      "3                                             0.038835            \n",
      "4                                             0.007168            \n",
      "..                                                 ...            \n",
      "110                                           0.052083            \n",
      "111                                           0.034483            \n",
      "112                                           0.062802            \n",
      "113                                           0.066007            \n",
      "114                                           0.042553            \n",
      "\n",
      "     9 - Ocupaciones elementales       SES    kw_pct    he_pct  \\\n",
      "0                       0.060465  1.165939  0.410302  0.374126   \n",
      "1                       0.075099  2.308229  0.406828  0.287688   \n",
      "2                       0.016854  3.196389  0.725379  0.662239   \n",
      "3                       0.169903  2.074234  0.041667  0.333333   \n",
      "4                       0.014337  2.992757  0.753532  0.524436   \n",
      "..                           ...       ...       ...       ...   \n",
      "110                     0.086806  0.331831  0.178114  0.155172   \n",
      "111                     0.060345  0.880603  0.513672  0.315403   \n",
      "112                     0.169082 -0.028130  0.013294  0.021700   \n",
      "113                     0.089109  0.406226  0.362579  0.105575   \n",
      "114                     0.051064  0.404134  0.185366  0.195251   \n",
      "\n",
      "     median_price_inf  Predicted_SES_21  \n",
      "0         2361.290759          1.271831  \n",
      "1         2846.996138          0.790910  \n",
      "2         2846.996138          2.093496  \n",
      "3         2846.996138          1.034354  \n",
      "4         2846.996138          1.558625  \n",
      "..                ...               ...  \n",
      "110       2257.217173         -1.268808  \n",
      "111       2257.217173         -1.155432  \n",
      "112       2257.217173         -1.538706  \n",
      "113       2257.217173         -1.344385  \n",
      "114       2257.217173         -1.137949  \n",
      "\n",
      "[115 rows x 42 columns]\n"
     ]
    }
   ],
   "source": [
    "print(df_2021_lm)"
   ]
  },
  {
   "cell_type": "code",
   "execution_count": null,
   "id": "909b088a-00f1-4b62-8344-efcadf5f67cd",
   "metadata": {},
   "outputs": [],
   "source": []
  }
 ],
 "metadata": {
  "kernelspec": {
   "display_name": "Python 3 (ipykernel)",
   "language": "python",
   "name": "python3"
  },
  "language_info": {
   "codemirror_mode": {
    "name": "ipython",
    "version": 3
   },
   "file_extension": ".py",
   "mimetype": "text/x-python",
   "name": "python",
   "nbconvert_exporter": "python",
   "pygments_lexer": "ipython3",
   "version": "3.12.7"
  }
 },
 "nbformat": 4,
 "nbformat_minor": 5
}

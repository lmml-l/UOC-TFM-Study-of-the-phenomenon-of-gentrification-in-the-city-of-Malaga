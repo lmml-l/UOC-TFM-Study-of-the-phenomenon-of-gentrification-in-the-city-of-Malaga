{
 "cells": [
  {
   "cell_type": "markdown",
   "id": "4ae3d940-4f37-4e2d-b342-1da74f7ab9e4",
   "metadata": {},
   "source": [
    "# Configuración Inicial"
   ]
  },
  {
   "cell_type": "code",
   "execution_count": 4,
   "id": "5cbf6369-b356-44b5-8772-6ca9df95b1a8",
   "metadata": {},
   "outputs": [],
   "source": [
    "# Importar paquetes\n",
    "import numpy as np\n",
    "import geopandas as gpd\n",
    "import pandas as pd\n",
    "import shapely\n",
    "from shapely import wkt\n",
    "import statistics\n",
    "import matplotlib.pyplot as plt\n",
    "import zipfile\n",
    "\n",
    "# Import paquetes con los modelos de sklearn\n",
    "from sklearn.ensemble import RandomForestRegressor\n",
    "from sklearn.model_selection import train_test_split\n",
    "from sklearn.model_selection import GridSearchCV\n",
    "from sklearn.model_selection import cross_val_score\n",
    "from sklearn.model_selection import KFold\n",
    "\n",
    "# Importar métricas\n",
    "from sklearn.metrics import (mean_absolute_error as mae, mean_squared_error as mse, \n",
    "                             explained_variance_score as evs, r2_score as r2)                \n",
    "from sklearn.metrics import (accuracy_score as acc, balanced_accuracy_score as bal_acc, \n",
    "                             f1_score as f1, roc_auc_score as roc_auc,\n",
    "                             average_precision_score as ave_prec)                            \n",
    "def mape(Y_actual,Y_Predicted):\n",
    "    #print(Y_actual, Y_Predicted)\n",
    "    mape = np.mean(np.abs((Y_actual - Y_Predicted)/Y_actual))*100\n",
    "    return mape\n",
    "\n",
    "r_state = 42"
   ]
  },
  {
   "cell_type": "markdown",
   "id": "5f30c567-dc1f-4d29-894a-cf66040dea07",
   "metadata": {},
   "source": [
    "# Importar dataframes y crear conjuntos train y test"
   ]
  },
  {
   "cell_type": "markdown",
   "id": "a94dd969-e639-46b4-8f2e-d708a94f89cd",
   "metadata": {},
   "source": [
    "## Importar dataframes"
   ]
  },
  {
   "cell_type": "code",
   "execution_count": 7,
   "id": "e25e8424-d200-4236-b246-1afba96de0bd",
   "metadata": {},
   "outputs": [],
   "source": [
    "path_2011 = r\"C:\\Users\\Usuario\\OneDrive\\Escritorio\\UOC\\TFM\\PEC3  - Implementacion\\WorkStation\\Datos\\Variables\\Procesados\\Distritos\\df_2011.csv\"\n",
    "path_2021 = r\"C:\\Users\\Usuario\\OneDrive\\Escritorio\\UOC\\TFM\\PEC3  - Implementacion\\WorkStation\\Datos\\Variables\\Procesados\\Distritos\\df_2021.csv\"\n",
    "df_2011 = pd.read_csv(path_2011, sep=\";\")\n",
    "df_2021 = pd.read_csv(path_2021, sep=\";\")"
   ]
  },
  {
   "cell_type": "markdown",
   "id": "0c6154a7-0f4a-4f0a-b167-0d61f1cfdd50",
   "metadata": {},
   "source": [
    "## Conjunto train y test"
   ]
  },
  {
   "cell_type": "code",
   "execution_count": 10,
   "id": "955c5610-eee4-4154-949d-b6e8c5c09479",
   "metadata": {},
   "outputs": [],
   "source": [
    "# Se dividen los conjuntos usando 80/20 respectivamente\n",
    "train, test = train_test_split(df_2011, test_size = 0.2, random_state = r_state)\n",
    "\n",
    "x_train = train.loc[:, ~train.columns.isin([\"SES_11\",\"NOMBRE\"])]\n",
    "y_train = train.loc[:, train.columns == 'SES_11'].values.ravel()\n",
    "\n",
    "x_test = test.loc[:, ~test.columns.isin([\"SES_11\",\"NOMBRE\"])]\n",
    "y_test = test.loc[:, test.columns == 'SES_11'].values.ravel()\n",
    "\n",
    "#print(x_train)\n",
    "#print(y_train)\n",
    "#print(x_test)\n",
    "#print(y_test)"
   ]
  },
  {
   "cell_type": "markdown",
   "id": "2833f4ae-2806-4e8b-b81e-dd714584bbef",
   "metadata": {},
   "source": [
    "# Construir RF"
   ]
  },
  {
   "cell_type": "code",
   "execution_count": 13,
   "id": "363507af-53ed-41d4-bb27-4d67cfbdd91c",
   "metadata": {},
   "outputs": [],
   "source": [
    "# Crear Modelo\n",
    "rf = RandomForestRegressor(random_state=r_state)"
   ]
  },
  {
   "cell_type": "code",
   "execution_count": 15,
   "id": "83b5ad2b-4bf8-4355-91e3-f970e3b8c07e",
   "metadata": {},
   "outputs": [],
   "source": [
    "# Entrenar modelo\n",
    "rf_model = rf.fit(x_train, y_train)\n",
    "\n",
    "# Predecir conjunto test con el modelo\n",
    "y_pred_rf = rf_model.predict(x_test)"
   ]
  },
  {
   "cell_type": "code",
   "execution_count": 17,
   "id": "65352dff-2383-4e63-bd02-08c358b2be30",
   "metadata": {},
   "outputs": [
    {
     "name": "stdout",
     "output_type": "stream",
     "text": [
      "mae_rf: 0.9503884577625059, \n",
      "mse_rf: 1.7825831999712571, \n",
      "evs_rf: 0.326081342518606, \n",
      "r2_rf: -0.3300102337469859, \n",
      "mape_rf: 55.55173301521551\n"
     ]
    }
   ],
   "source": [
    "# Calcular métricas de desempeño\n",
    "mae_rf = mae(y_test, y_pred_rf)\n",
    "mse_rf = mse(y_test, y_pred_rf)\n",
    "evs_rf = evs(y_test, y_pred_rf)\n",
    "r2_rf = r2(y_test, y_pred_rf)\n",
    "mape_rf = mape(y_test, y_pred_rf)\n",
    "\n",
    "print(f\"mae_rf: {mae_rf}, \\nmse_rf: {mse_rf}, \\nevs_rf: {evs_rf}, \\nr2_rf: {r2_rf}, \\nmape_rf: {mape_rf}\")"
   ]
  },
  {
   "cell_type": "markdown",
   "id": "e64691a8-fa51-470e-bb89-c9c694795e1d",
   "metadata": {},
   "source": [
    "# K-fold Validacion"
   ]
  },
  {
   "cell_type": "code",
   "execution_count": 20,
   "id": "d3d62a0d-8bcd-481a-a215-5f9ad5fdaebb",
   "metadata": {},
   "outputs": [
    {
     "name": "stdout",
     "output_type": "stream",
     "text": [
      "Mean Cross-Validation Score: -0.30238598147710716\n",
      "Standard Deviation: 0.5206765785202331\n"
     ]
    }
   ],
   "source": [
    "kfold = KFold(n_splits=5, shuffle=True, random_state=r_state)  # 5 pliegues\n",
    "scores = cross_val_score(rf, x_train, y_train, cv=kfold, scoring='neg_mean_squared_error')\n",
    "print(f\"Mean Cross-Validation Score: {np.mean(scores)}\")\n",
    "print(f\"Standard Deviation: {np.std(scores)}\")"
   ]
  },
  {
   "cell_type": "code",
   "execution_count": null,
   "id": "eb6a93b6-d2d4-45bd-83a1-4a39c9dbcccc",
   "metadata": {},
   "outputs": [],
   "source": []
  }
 ],
 "metadata": {
  "kernelspec": {
   "display_name": "Python 3 (ipykernel)",
   "language": "python",
   "name": "python3"
  },
  "language_info": {
   "codemirror_mode": {
    "name": "ipython",
    "version": 3
   },
   "file_extension": ".py",
   "mimetype": "text/x-python",
   "name": "python",
   "nbconvert_exporter": "python",
   "pygments_lexer": "ipython3",
   "version": "3.12.7"
  }
 },
 "nbformat": 4,
 "nbformat_minor": 5
}

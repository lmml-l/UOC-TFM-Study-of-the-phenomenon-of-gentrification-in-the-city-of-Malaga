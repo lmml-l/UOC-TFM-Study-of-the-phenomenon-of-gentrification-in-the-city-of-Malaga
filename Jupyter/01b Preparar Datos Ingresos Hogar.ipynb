{
 "cells": [
  {
   "cell_type": "code",
   "execution_count": 7,
   "id": "3fed4675-78cc-4710-9e44-bf2f8a3f073c",
   "metadata": {},
   "outputs": [
    {
     "name": "stdout",
     "output_type": "stream",
     "text": [
      "Index(['ID_DISMUNI', 'NUMERO', 'NOMBRE', 'geometry'], dtype='object')\n",
      "Index(['NUMERO', 'Distrito', '2022', '2021', '2020', '2019', '2018', '2017',\n",
      "       '2016', '2015'],\n",
      "      dtype='object')\n",
      "Index(['2022', '2021', '2020', '2019', '2018', '2017', '2016', '2015', '2014',\n",
      "       '2013', '2012', '2011'],\n",
      "      dtype='object')\n",
      "   ID_DISMUNI  NUMERO                NOMBRE  \\\n",
      "0        91.0     8.0             CHURRIANA   \n",
      "1        92.0     7.0    CARRETERA DE CADIZ   \n",
      "2        93.0    11.0  TEATINOS-UNIVERSIDAD   \n",
      "3        94.0     6.0   CRUZ DE HUMILLADERO   \n",
      "4        95.0     4.0     BAILEN-MIRAFLORES   \n",
      "\n",
      "                                            geometry  \n",
      "0  POLYGON Z ((364547.336 4062225.799 0.000, 3645...  \n",
      "1  POLYGON Z ((372234.992 4063847.501 0.000, 3722...  \n",
      "2  POLYGON Z ((365936.917 4064846.291 0.000, 3662...  \n",
      "3  POLYGON Z ((369763.299 4065393.456 0.000, 3697...  \n",
      "4  POLYGON Z ((370858.973 4067157.454 0.000, 3708...  \n",
      "   NUMERO              Distrito   2022   2021   2020   2019   2018   2017  \\\n",
      "0       1                Centro  38949  36272  35183  35977  33909  32161   \n",
      "1       2                  Este  52522  48537  47039  47517  45511  43292   \n",
      "2       3         Ciudad Jardín  32937  26679  26578  27035  26058  24892   \n",
      "3       4     Bailen-miraflores  31791  29915  29209  29253  27891  26520   \n",
      "4       5  Martiricos - La Roca  27674  25612  23501  25215  23849  22126   \n",
      "\n",
      "    2016   2015  \n",
      "0  31628  31325  \n",
      "1  41971  40713  \n",
      "2  23344  23340  \n",
      "3  25847  25284  \n",
      "4  20916  20299  \n",
      "       2022      2021      2020      2019      2018      2017      2016  \\\n",
      "0  33786,29  31611,75  30219,18  30446,75  28916,76  27524,76  26672,87   \n",
      "\n",
      "       2015      2014      2013      2012      2011  \n",
      "0  25922,43  24286,66  24404,52  25140,01  26715,23  \n"
     ]
    }
   ],
   "source": [
    "import geopandas as gpd\n",
    "import pandas as pd\n",
    "import numpy as np\n",
    "\n",
    "## Renta neta media anual por hogares\n",
    "# Cargar el SHP y el CSV Distrito\n",
    "df_geografiaDistrito = gpd.read_file(r\"C:\\Users\\Usuario\\OneDrive\\Escritorio\\UOC\\TFM\\PEC3  - Implementacion\\WorkStation\\Datos\\Shapefiles\\da_cartografiaDistritoMunicipal-25830\\da_cartografiaDistritoMunicipalPolygon.shp\")\n",
    "df_RentaNetaMediaHogar = pd.read_csv(r\"C:\\Users\\Usuario\\OneDrive\\Escritorio\\UOC\\TFM\\PEC3  - Implementacion\\WorkStation\\Datos\\Variables\\02  - Ingresos del Hogar\\Distritos\\Renta Neta Media Por Hogar.csv\", sep=\";\")\n",
    "df_RentaNetaMediaHogarMalaga = pd.read_csv(r\"C:\\Users\\Usuario\\OneDrive\\Escritorio\\UOC\\TFM\\PEC3  - Implementacion\\WorkStation\\Datos\\Variables\\02  - Ingresos del Hogar\\Distritos\\Renta Neta Media Por Hogar Malaga.csv\", sep=\";\")\n",
    "\n",
    "# Ver las columnas\n",
    "print(df_geografiaDistrito.columns)\n",
    "print(df_RentaNetaMediaHogar.columns)\n",
    "print(df_RentaNetaMediaHogarMalaga.columns)\n",
    "\n",
    "# Opcional: inspeccionar los primeros registros\n",
    "print(df_geografiaDistrito.head())\n",
    "print(df_RentaNetaMediaHogar.head())\n",
    "print(df_RentaNetaMediaHogarMalaga.head())\n"
   ]
  },
  {
   "cell_type": "code",
   "execution_count": null,
   "id": "20a4c982-f74f-4cea-8cce-35f4aa3661f9",
   "metadata": {},
   "outputs": [],
   "source": []
  }
 ],
 "metadata": {
  "kernelspec": {
   "display_name": "Python 3 (ipykernel)",
   "language": "python",
   "name": "python3"
  },
  "language_info": {
   "codemirror_mode": {
    "name": "ipython",
    "version": 3
   },
   "file_extension": ".py",
   "mimetype": "text/x-python",
   "name": "python",
   "nbconvert_exporter": "python",
   "pygments_lexer": "ipython3",
   "version": "3.12.7"
  }
 },
 "nbformat": 4,
 "nbformat_minor": 5
}
